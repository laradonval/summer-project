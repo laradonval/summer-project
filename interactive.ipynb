{
 "cells": [
  {
   "cell_type": "code",
   "execution_count": 5,
   "metadata": {
    "pycharm": {
     "is_executing": true,
     "name": "#%%\n"
    }
   },
   "outputs": [
    {
     "data": {
      "text/html": [
       "        <script type=\"text/javascript\">\n",
       "        window.PlotlyConfig = {MathJaxConfig: 'local'};\n",
       "        if (window.MathJax && window.MathJax.Hub && window.MathJax.Hub.Config) {window.MathJax.Hub.Config({SVG: {font: \"STIX-Web\"}});}\n",
       "        if (typeof require !== 'undefined') {\n",
       "        require.undef(\"plotly\");\n",
       "        requirejs.config({\n",
       "            paths: {\n",
       "                'plotly': ['https://cdn.plot.ly/plotly-2.14.0.min']\n",
       "            }\n",
       "        });\n",
       "        require(['plotly'], function(Plotly) {\n",
       "            window._Plotly = Plotly;\n",
       "        });\n",
       "        }\n",
       "        </script>\n",
       "        "
      ]
     },
     "metadata": {},
     "output_type": "display_data"
    },
    {
     "data": {
      "application/vnd.jupyter.widget-view+json": {
       "model_id": "e70d098392474c6da1eb9d798065ee06",
       "version_major": 2,
       "version_minor": 0
      },
      "text/plain": [
       "interactive(children=(Dropdown(description='Mesaurement File:', options=('.\\\\iphas0053_r.dat', '.\\\\iphas0053_r…"
      ]
     },
     "metadata": {},
     "output_type": "display_data"
    }
   ],
   "source": [
    "from glob import glob\n",
    "from plotly.offline import init_notebook_mode\n",
    "import numpy as np\n",
    "import pandas as pd\n",
    "import plotly.graph_objects as go\n",
    "import plotly.io as pio\n",
    "from astropy.timeseries import LombScargle\n",
    "from ipywidgets import interact, widgets\n",
    "from plotly.subplots import make_subplots\n",
    "init_notebook_mode(connected=True)\n",
    "\n",
    "data_file_widget = widgets.Dropdown(\n",
    "    options=glob(\"./*.dat\"),\n",
    "    description=\"Mesaurement File:\",\n",
    "    style=dict(description_width=\"initial\")\n",
    ")\n",
    "theme_widget = widgets.Dropdown(\n",
    "    options=pio.templates,\n",
    "    description=\"Theme:\",\n",
    "    style=dict(description_width=\"initial\")\n",
    ")\n",
    "power_normalization_widget = widgets.Dropdown(\n",
    "    options=[\"standard\", \"model\", \"log\", \"psd\"],\n",
    "    description=\"Power Normalization:\",\n",
    "    style=dict(description_width=\"initial\")\n",
    ")\n",
    "autopower_method_widget = widgets.Dropdown(\n",
    "    options=[\"auto\", \"fast\", \"slow\", \"cython\", \"chi2\", \"fastchi2\", \"scipy\"],\n",
    "    description=\"Autopower Method:\",\n",
    "    style=dict(description_width=\"initial\")\n",
    ")\n",
    "min_frequency_widget = widgets.FloatText(\n",
    "    description=\"Minimum Frequency (0 = ignore):\",\n",
    "    style=dict(description_width=\"initial\")\n",
    ")\n",
    "max_frequency_widget = widgets.FloatText(\n",
    "    description=\"Maximum Frequency (0 = ignore):\",\n",
    "    style=dict(description_width=\"initial\")\n",
    ")\n",
    "nyquist_factor_widget = widgets.FloatText(\n",
    "    value=5,\n",
    "    description=\"Nyquist Factor (5 = default):\",\n",
    "    style=dict(description_width=\"initial\")\n",
    ")\n",
    "\n",
    "\n",
    "@interact\n",
    "def display_lomb_scargle(data_file=data_file_widget,\n",
    "                         theme=theme_widget,\n",
    "                         power_normalization=power_normalization_widget,\n",
    "                         autopower_method=autopower_method_widget,\n",
    "                         min_frequency=min_frequency_widget,\n",
    "                         max_frequency=max_frequency_widget,\n",
    "                         nyquist_factor=nyquist_factor_widget):\n",
    "    min_frequency = None if min_frequency == 0 else min_frequency\n",
    "    max_frequency = None if max_frequency == 0 else max_frequency\n",
    "\n",
    "    df = pd.read_csv(data_file, sep=\" \", names=(\"time\", \"magnitude\", \"magnitude_uncertainty\", \"dont_worry_about_it\"))\n",
    "    t = df[\"time\"]\n",
    "    m = df[\"magnitude\"]\n",
    "    dm = df[\"magnitude_uncertainty\"]\n",
    "\n",
    "    ls = LombScargle(t, m, dm)\n",
    "    frequency, power = ls.autopower(method=autopower_method, nyquist_factor=nyquist_factor,\n",
    "                                    minimum_frequency=min_frequency, maximum_frequency=max_frequency, normalization=power_normalization_widget)\n",
    "\n",
    "    best_frequency = frequency[np.argmax(power)]\n",
    "    t_fit = np.linspace(0, 1)\n",
    "    y_fit = ls.model(t_fit, best_frequency)\n",
    "\n",
    "    fig = make_subplots(rows=1, cols=2)\n",
    "\n",
    "    fig.add_trace(go.Scatter(x=frequency, y=power, name=\"Lomb-Scargle Power\"), row=1, col=1)\n",
    "    fig.update_xaxes(title_text=\"Frequency\", row=1, col=1)\n",
    "    fig.update_yaxes(title_text=\"Power\", row=1, col=1)\n",
    "\n",
    "    fig.add_trace(go.Scatter(x=t_fit, y=y_fit, name=\"Lomb-Scargle Model (using best frequency)\"), row=1, col=2)\n",
    "    fig.update_xaxes(title_text=\"Time\", row=1, col=2)\n",
    "    fig.update_yaxes(title_text=\"Magnitude\", row=1, col=2)\n",
    "\n",
    "    fig.update_layout(title_text=f\"Measurements File: {data_file}\", template=theme, legend=dict(\n",
    "        orientation=\"h\",\n",
    "        yanchor=\"bottom\",\n",
    "        y=1.02,\n",
    "        xanchor=\"right\",\n",
    "        x=1\n",
    "    ))\n",
    "\n",
    "    return fig\n"
   ]
  }
 ],
 "metadata": {
  "kernelspec": {
   "display_name": "Python 3",
   "language": "python",
   "name": "python3"
  }
 },
 "nbformat": 4,
 "nbformat_minor": 1
}
